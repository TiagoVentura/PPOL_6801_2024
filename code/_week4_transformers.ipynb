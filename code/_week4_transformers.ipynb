{
 "cells": [
  {
   "cell_type": "markdown",
   "id": "3ad84a7f-6b1f-4176-9ffa-ce9746321367",
   "metadata": {},
   "source": [
    "\n",
    "<h1><center> PPOL 6801 Text as Data <br><br> \n",
    "<font color='grey'> Supervised Learning with Text and Off-the-Shelf  <br><br>\n",
    "Tiago Ventura </center> <h1> \n",
    "\n",
    "---"
   ]
  },
  {
   "cell_type": "code",
   "execution_count": 17,
   "id": "c73d0e08-9aff-4789-ad7a-3f14b05c42c0",
   "metadata": {},
   "outputs": [],
   "source": [
    "# Open data\n",
    "import pandas as pd\n",
    "import numpy as np"
   ]
  },
  {
   "cell_type": "markdown",
   "id": "eb3af568-25dc-4bab-9cff-596831705456",
   "metadata": {},
   "source": [
    "## Supervised Learning with Text\n",
    "\n",
    "To practice with supervised learning with text data, we will perform some classic sentiment analysis classification task. Sentiment analysis natural language processing technique that given a textual input (tweets, movie reviews, comments on a website chatbox, etc... ) identifies the polarity of the text. \n",
    "\n",
    "There are different flavors of sentiment analysis, but one of the most widely used techniques labels data into positive, negative and neutral. Other options are classifying text according to the levels of toxicity, which I did in the paper I asked you to read, or more fine-graine measures of sentiments. \n",
    "\n",
    "Sentiment analysis is just one of many types of classification tasks that can be done with text. For any type of task in which you need to identify if the input pertains to a certain category, you can use a similar set of tools as we will see for sentiment analysis. For example, these are some classification tasks I have used in my work before: \n",
    "\n",
    "- Classify the levels of toxicity in social media live-streaming comments.\n",
    "- Analyze the sentiment of tweets.\n",
    "- Classify if the user is a Republican or Democrat  given the their Twitter bios. \n",
    "- Identify if a particular social media post contains misinformation. \n",
    "\n",
    "For all these tasks, you need: \n",
    "\n",
    "- some type of labelled data (which you and your research team will do), \n",
    "- build/or use a pre-trained machine learning models to make the prediction\n",
    "- evaluate the performance of the models\n",
    "\n",
    "Here, we will work with data that was alread labelled for us. We will analyze the sentiment on IMDB dataset of reviews"
   ]
  },
  {
   "cell_type": "markdown",
   "id": "6e1626e6-aa88-4a60-8697-4e7c00a0a609",
   "metadata": {},
   "source": [
    "### IMDB Dataset\n",
    "\n",
    "For the rest of this notebook, we will IMDB dataset provided by [Hugging Face](https://huggingface.co/datasets/imdb). The IMDB dataset contains 25,000 movie reviews labeled by sentiment for training a model and 25,000 movie reviews for testing it. \n",
    "\n",
    "We will talk more about the Hugging Face project later in this notebook. For now, just download their main transformers library, and import the IMDB Review Dataset"
   ]
  },
  {
   "cell_type": "markdown",
   "id": "4cb63f2c-37c7-4ab5-b2ac-6160e349a5a4",
   "metadata": {},
   "source": [
    "#### Accessing the Dataset"
   ]
  },
  {
   "cell_type": "code",
   "execution_count": 18,
   "id": "ee499bcc-6eb2-4eb3-94c4-f5bb005fdb78",
   "metadata": {},
   "outputs": [
    {
     "name": "stderr",
     "output_type": "stream",
     "text": [
      "Using the latest cached version of the module from /Users/tb186/.cache/huggingface/modules/datasets_modules/datasets/imdb/d613c88cf8fa3bab83b4ded3713f1f74830d1100e171db75bbddb80b3345c9c0 (last modified on Sat Nov 18 11:40:32 2023) since it couldn't be found locally at imdb, or remotely on the Hugging Face Hub.\n"
     ]
    }
   ],
   "source": [
    "#!pip install transformers\n",
    "#!pip install datasets\n",
    "from datasets import load_dataset\n",
    "imdb = load_dataset(\"imdb\")"
   ]
  },
  {
   "cell_type": "code",
   "execution_count": 3,
   "id": "0b5c7269-6af8-4d14-b19c-7c493250a367",
   "metadata": {},
   "outputs": [
    {
     "data": {
      "text/html": [
       "<div>\n",
       "<style scoped>\n",
       "    .dataframe tbody tr th:only-of-type {\n",
       "        vertical-align: middle;\n",
       "    }\n",
       "\n",
       "    .dataframe tbody tr th {\n",
       "        vertical-align: top;\n",
       "    }\n",
       "\n",
       "    .dataframe thead th {\n",
       "        text-align: right;\n",
       "    }\n",
       "</style>\n",
       "<table border=\"1\" class=\"dataframe\">\n",
       "  <thead>\n",
       "    <tr style=\"text-align: right;\">\n",
       "      <th></th>\n",
       "      <th>text</th>\n",
       "      <th>label</th>\n",
       "    </tr>\n",
       "  </thead>\n",
       "  <tbody>\n",
       "    <tr>\n",
       "      <th>0</th>\n",
       "      <td>There is no relation at all between Fortier an...</td>\n",
       "      <td>1</td>\n",
       "    </tr>\n",
       "    <tr>\n",
       "      <th>1</th>\n",
       "      <td>This movie is a great. The plot is very true t...</td>\n",
       "      <td>1</td>\n",
       "    </tr>\n",
       "    <tr>\n",
       "      <th>2</th>\n",
       "      <td>George P. Cosmatos' \"Rambo: First Blood Part I...</td>\n",
       "      <td>0</td>\n",
       "    </tr>\n",
       "    <tr>\n",
       "      <th>3</th>\n",
       "      <td>In the process of trying to establish the audi...</td>\n",
       "      <td>1</td>\n",
       "    </tr>\n",
       "    <tr>\n",
       "      <th>4</th>\n",
       "      <td>Yeh, I know -- you're quivering with excitemen...</td>\n",
       "      <td>0</td>\n",
       "    </tr>\n",
       "  </tbody>\n",
       "</table>\n",
       "</div>"
      ],
      "text/plain": [
       "                                                text  label\n",
       "0  There is no relation at all between Fortier an...      1\n",
       "1  This movie is a great. The plot is very true t...      1\n",
       "2  George P. Cosmatos' \"Rambo: First Blood Part I...      0\n",
       "3  In the process of trying to establish the audi...      1\n",
       "4  Yeh, I know -- you're quivering with excitemen...      0"
      ]
     },
     "execution_count": 3,
     "metadata": {},
     "output_type": "execute_result"
    }
   ],
   "source": [
    "#### get a smaller sample\n",
    "small_train_dataset = imdb[\"train\"].shuffle(seed=42).select([i for i in list(range(3000))])\n",
    "small_test_dataset = imdb[\"test\"].shuffle(seed=42).select([i for i in list(range(300))])\n",
    "\n",
    "# convert to a dataframe\n",
    "pd_train = pd.DataFrame(small_train_dataset)\n",
    "pd_test = pd.DataFrame(small_test_dataset)\n",
    "\n",
    "# see the data\n",
    "pd_train.head()"
   ]
  },
  {
   "cell_type": "markdown",
   "id": "aa3bec7b-d71c-4535-8a99-d67b020d7c1d",
   "metadata": {},
   "source": [
    "### Dictionary Methods\n",
    "\n",
    "Our first approach for sentiment classification will use dictionary methods. \n",
    "\n",
    "**Common Procedure:** Consists on using a pre-determined set of words (dictionary) that identifies the categories you want to classify documents. With this dictionary, you can do a simple search through the documents, count how many times these words appear, and use some type of aggregation function to classify the text. For example: \n",
    "\n",
    "- Positive or negative, for sentiment\n",
    "- Sad, happy, angry, anxious... for emotions\n",
    "- Sexism, homophobia, xenophobia, racism... for hate speech\n",
    "\n",
    "Dictionaries are the most basic strategy to classify documents. Its simplicity requires some unrealistic assumptions (for example related to ignoring contextual information of the documents). However, the use of dicitionaries have one major advantage: it allows for a bridge between qualititative and quantitative knowledge. You need human experts to build good dictionaries.  "
   ]
  },
  {
   "cell_type": "markdown",
   "id": "c08c1b5c-594f-4cf8-9dca-b750dcb8950d",
   "metadata": {},
   "source": [
    "#### VADER\n",
    "\n",
    "There are many options for dictionaries for sentiment classification. We will use one popular open-source option available at NLTK: The VADER dictionary. VADER stands for Valence Aware Dictionary for Sentiment Reasoning. It is a model used for text sentiment analysis that is sensitive to both polarity (positive/negative) and intensity (strength) of emotion, and it was developed to handling particularly social media content. \n",
    "\n",
    "\n",
    "**Key Components of the VADER Dictionary:***\n",
    "\n",
    "- Sentiment Lexicon: This is a list of known words and their associated sentiment scores. \n",
    "\n",
    "- Sentiment Intensity Scores: Each word in the lexicon is assigned a score that ranges from -4 (extremely negative) to +4 (extremely positive). \n",
    "\n",
    "- Handling of Contextual and Qualitative Modifiers: VADER is sensitive to both intensifiers (e.g., \"very\") and negations (e.g., \"not\"). \n",
    "\n",
    "You can read the original paper that created the VADER [here](https://www.google.com/search?q=ADER%3A+A+Parsimonious+Rule-based+Model+for+Sentiment+Analysis+of+Social+Media+Text.+Eighth+International+Conference+on+Weblogs+and+Social+Media&rlz=1C5GCEM_enUS1072US1073&oq=ADER%3A+A+Parsimonious+Rule-based+Model+for+Sentiment+Analysis+of+Social+Media+Text.+Eighth+International+Conference+on+Weblogs+and+Social+Media&gs_lcrp=EgZjaHJvbWUyBggAEEUYOTIGCAEQRRg60gEHMTU2ajBqNKgCALACAA&sourceid=chrome&ie=UTF-8)"
   ]
  },
  {
   "cell_type": "markdown",
   "id": "19e0784b-b2ea-4d88-bfef-d777156ba239",
   "metadata": {},
   "source": [
    "#### Import dictionary"
   ]
  },
  {
   "cell_type": "code",
   "execution_count": 19,
   "id": "09c831c9-8df4-413d-acee-17aa1090ddf4",
   "metadata": {},
   "outputs": [],
   "source": [
    "import nltk\n",
    "# nltk.download('vader_lexicon')\n",
    "from nltk.sentiment.vader import SentimentIntensityAnalyzer"
   ]
  },
  {
   "cell_type": "code",
   "execution_count": 20,
   "id": "3bc3b5c9-f74b-48ed-91a3-f75bd8b636c8",
   "metadata": {},
   "outputs": [
    {
     "data": {
      "text/plain": [
       "{'neg': 0.0, 'neu': 0.714, 'pos': 0.286, 'compound': 0.8398}"
      ]
     },
     "execution_count": 20,
     "metadata": {},
     "output_type": "execute_result"
    }
   ],
   "source": [
    "# instantiate the model\n",
    "sid = SentimentIntensityAnalyzer()\n",
    "\n",
    "# simple example\n",
    "review1 = \"I have eaten here dozens of times and have always had an outstanding experience. a meal at Fogo de Chao is always a wonderful experience!\"\n",
    "\n",
    "# classify\n",
    "sid.polarity_scores(review1)"
   ]
  },
  {
   "cell_type": "code",
   "execution_count": 21,
   "id": "2351e7e9-ea5a-4673-8866-80e59adbf47b",
   "metadata": {},
   "outputs": [
    {
     "data": {
      "text/plain": [
       "{'neg': 0.067, 'neu': 0.933, 'pos': 0.0, 'compound': -0.0772}"
      ]
     },
     "execution_count": 21,
     "metadata": {},
     "output_type": "execute_result"
    }
   ],
   "source": [
    "# simple example\n",
    "review2 = \"Long wait on a rainy day. \\\n",
    "I had to order my burger twice. \\\n",
    "I ordered it medium and came way over cooked.\"\n",
    "\n",
    "# classify\n",
    "sid.polarity_scores(review2)"
   ]
  },
  {
   "cell_type": "markdown",
   "id": "a900dffc-9539-4427-abbd-76962ab5412a",
   "metadata": {},
   "source": [
    "Let's now apply the dictionary at scale in our IMDB review dataset"
   ]
  },
  {
   "cell_type": "code",
   "execution_count": 22,
   "id": "c5603955-b20e-4fe9-927b-e8e141fd0051",
   "metadata": {},
   "outputs": [],
   "source": [
    "# apply the dictionary to your data frame\n",
    "pd_test[\"vader_scores\"]=pd_test[\"text\"].apply(sid.polarity_scores)\n",
    "\n",
    "# let's see\n",
    "pd_test.head()\n",
    "\n",
    "# grab final sentiment\n",
    "pd_test[\"sentiment_vader\"]=pd_test[\"vader_scores\"].apply(lambda x: np.where(x[\"compound\"] > 0, 1, 0))"
   ]
  },
  {
   "cell_type": "markdown",
   "id": "38ea9d06-8256-4c5d-a302-87e448ef8cbc",
   "metadata": {},
   "source": [
    "Now that we have performed the classification task, we can see compare the labels and our predictions. We will be using a simple accuracy measure of how many labels were correctly classified"
   ]
  },
  {
   "cell_type": "code",
   "execution_count": 23,
   "id": "c4b79005-1bd3-45fd-a837-7d971524fa22",
   "metadata": {},
   "outputs": [
    {
     "name": "stdout",
     "output_type": "stream",
     "text": [
      "0.6966666666666667\n"
     ]
    }
   ],
   "source": [
    "from sklearn.metrics import accuracy_score\n",
    "accuracy = accuracy_score(pd_test['label'], pd_test['sentiment_vader'])\n",
    "\n",
    "# see\n",
    "print(accuracy)"
   ]
  },
  {
   "cell_type": "markdown",
   "id": "a7fbd2ce-787c-4542-a673-e2a454c814dc",
   "metadata": {},
   "source": [
    "## Pre-Trained Large Language Models: Hugging Face\n",
    "\n",
    "In the past few years, the field of natural language processing  has undergone through a major revolution. As we first saw, the early generation of NLP models was based on the idea of converting text to numbers through the use of document-feature matrix relying on the bag-of-words assumptions. \n",
    "\n",
    "In the past ten-years, we have seen the emergence of a new paradigm using deep-learning and neural networks models to improve on the representation of text as numbers. These new models move away from the idea of a bag-of-words towards a more refined representation of text capturing the contextual meaning of words and sentences. This is achieved by training models with billions of parameters on text-sequencing tasks, using as inputs a dense representation of words. These are the famous word embeddings. \n",
    "\n",
    "The most recent innovation on this revolution has been the Transformers Models. These models use multiple embeddings (matrices) to represent word, in which each matrix can capture different contextual representations of words. This dynamic representation allow for higher predictive power on downstream tasks in which these matrices form the foundation of the entire machine learning architecture. For example, Transformers are the the core of the language models like Open AI's GPTs and Meta's LLaMa.\n",
    "\n",
    "The Transformers use a sophisticated architecture that requires a huge amount of data and computational power to be trained. However, several of these models are open-sourced and are made available for us on the web through a platform called [Hugging Face](https://huggingface.co/). Those are what we call **pre-trained large language models**. At this point, there are thousands of pre-trained models based on the transformers framework available at hugging face. \n",
    "\n",
    "Once you find a model that fits your task, you have two options: \n",
    "\n",
    "- **Use the model architecture: access the model through the transformers library, and use it in you predictive tasks.** \n",
    "\n",
    "- **Fine-Tunning:** this is the most traditional way. You will get the model, give some data, re-train the model slightly so that the model will learn patterns from your data, and use on your predictive task. By fine-tuning a Transformers-based model for our own application, we can improve contextual understanding and therefore task-specific performance\n",
    "\n",
    "We will see example of the first for sentiment analysis. If you were to do build a full pipeline for classification, you would probably need to fine-tune the model. To learn more about fine-tunning, I suggest you to read: \n",
    "\n",
    "- here on hugging face: https://huggingface.co/blog/sentiment-analysis-python\n",
    "\n",
    "- and this forthcoming paper for political science applications:https://joantimoneda.netlify.app/files/Timoneda%20Vallejo%20V%20JOP.pdf"
   ]
  },
  {
   "cell_type": "markdown",
   "id": "69f4abf3-e7e9-4a4a-981b-6dd8bde852a1",
   "metadata": {},
   "source": [
    "### Transformers Library\n",
    "\n",
    "To use a model available on hugging face, you only need a few lines of code. "
   ]
  },
  {
   "cell_type": "markdown",
   "id": "ef755559-518e-4e9f-b776-21db052ef214",
   "metadata": {},
   "source": [
    "#### Use the pipeline class to access the model. \n",
    "\n",
    "The pipeline function will give you the default model for this task, that in this case is a Bert-Based Model, see here: https://huggingface.co/distilbert-base-uncased-finetuned-sst-2-english?text=I+like+you.+I+love+you"
   ]
  },
  {
   "cell_type": "code",
   "execution_count": 24,
   "id": "06be6fe2-e2a0-413f-9613-903a7bda407c",
   "metadata": {},
   "outputs": [],
   "source": [
    "# import the pipeline function\n",
    "from transformers import pipeline"
   ]
  },
  {
   "cell_type": "code",
   "execution_count": 25,
   "id": "2284bbcb-1602-457a-bd77-cb375504c293",
   "metadata": {},
   "outputs": [
    {
     "name": "stderr",
     "output_type": "stream",
     "text": [
      "No model was supplied, defaulted to distilbert-base-uncased-finetuned-sst-2-english and revision af0f99b (https://huggingface.co/distilbert-base-uncased-finetuned-sst-2-english).\n",
      "Using a pipeline without specifying a model name and revision in production is not recommended.\n"
     ]
    },
    {
     "name": "stdout",
     "output_type": "stream",
     "text": [
      "I have eaten here dozens of times and have always had an outstanding experience. a meal at Fogo de Chao is always a wonderful experience! Long wait on a rainy day. I had to order my burger twice. I ordered it medium and came way over cooked.\n"
     ]
    },
    {
     "data": {
      "text/plain": [
       "[{'label': 'POSITIVE', 'score': 0.9998835325241089},\n",
       " {'label': 'NEGATIVE', 'score': 0.9927043914794922}]"
      ]
     },
     "execution_count": 25,
     "metadata": {},
     "output_type": "execute_result"
    }
   ],
   "source": [
    "# instantiate your model\n",
    "sentiment_pipeline = pipeline(\"sentiment-analysis\")\n",
    "\n",
    "# see simple cases\n",
    "print(review1, review2)\n",
    "\n",
    "#prediction\n",
    "sentiment_pipeline([review1, review2])"
   ]
  },
  {
   "cell_type": "code",
   "execution_count": 11,
   "id": "21d9a746-a336-4a5b-9236-35c2afa59431",
   "metadata": {},
   "outputs": [
    {
     "data": {
      "text/html": [
       "<div>\n",
       "<style scoped>\n",
       "    .dataframe tbody tr th:only-of-type {\n",
       "        vertical-align: middle;\n",
       "    }\n",
       "\n",
       "    .dataframe tbody tr th {\n",
       "        vertical-align: top;\n",
       "    }\n",
       "\n",
       "    .dataframe thead th {\n",
       "        text-align: right;\n",
       "    }\n",
       "</style>\n",
       "<table border=\"1\" class=\"dataframe\">\n",
       "  <thead>\n",
       "    <tr style=\"text-align: right;\">\n",
       "      <th></th>\n",
       "      <th>text</th>\n",
       "      <th>label</th>\n",
       "      <th>vader_scores</th>\n",
       "      <th>sentiment_vader</th>\n",
       "      <th>bert_scores</th>\n",
       "      <th>bert_class</th>\n",
       "    </tr>\n",
       "  </thead>\n",
       "  <tbody>\n",
       "    <tr>\n",
       "      <th>0</th>\n",
       "      <td>&lt;br /&gt;&lt;br /&gt;When I unsuspectedly rented A Thou...</td>\n",
       "      <td>1</td>\n",
       "      <td>{'neg': 0.069, 'neu': 0.788, 'pos': 0.143, 'co...</td>\n",
       "      <td>1</td>\n",
       "      <td>[{'label': 'POSITIVE', 'score': 0.998875796794...</td>\n",
       "      <td>1</td>\n",
       "    </tr>\n",
       "    <tr>\n",
       "      <th>1</th>\n",
       "      <td>This is the latest entry in the long series of...</td>\n",
       "      <td>1</td>\n",
       "      <td>{'neg': 0.066, 'neu': 0.862, 'pos': 0.073, 'co...</td>\n",
       "      <td>1</td>\n",
       "      <td>[{'label': 'POSITIVE', 'score': 0.996983110904...</td>\n",
       "      <td>1</td>\n",
       "    </tr>\n",
       "    <tr>\n",
       "      <th>2</th>\n",
       "      <td>This movie was so frustrating. Everything seem...</td>\n",
       "      <td>0</td>\n",
       "      <td>{'neg': 0.24, 'neu': 0.583, 'pos': 0.177, 'com...</td>\n",
       "      <td>0</td>\n",
       "      <td>[{'label': 'NEGATIVE', 'score': 0.997244238853...</td>\n",
       "      <td>0</td>\n",
       "    </tr>\n",
       "    <tr>\n",
       "      <th>3</th>\n",
       "      <td>I was truly and wonderfully surprised at \"O' B...</td>\n",
       "      <td>1</td>\n",
       "      <td>{'neg': 0.075, 'neu': 0.752, 'pos': 0.173, 'co...</td>\n",
       "      <td>1</td>\n",
       "      <td>[{'label': 'NEGATIVE', 'score': 0.649214446544...</td>\n",
       "      <td>0</td>\n",
       "    </tr>\n",
       "    <tr>\n",
       "      <th>4</th>\n",
       "      <td>This movie spends most of its time preaching t...</td>\n",
       "      <td>0</td>\n",
       "      <td>{'neg': 0.066, 'neu': 0.707, 'pos': 0.227, 'co...</td>\n",
       "      <td>1</td>\n",
       "      <td>[{'label': 'NEGATIVE', 'score': 0.998503446578...</td>\n",
       "      <td>0</td>\n",
       "    </tr>\n",
       "  </tbody>\n",
       "</table>\n",
       "</div>"
      ],
      "text/plain": [
       "                                                text  label  \\\n",
       "0  <br /><br />When I unsuspectedly rented A Thou...      1   \n",
       "1  This is the latest entry in the long series of...      1   \n",
       "2  This movie was so frustrating. Everything seem...      0   \n",
       "3  I was truly and wonderfully surprised at \"O' B...      1   \n",
       "4  This movie spends most of its time preaching t...      0   \n",
       "\n",
       "                                        vader_scores  sentiment_vader  \\\n",
       "0  {'neg': 0.069, 'neu': 0.788, 'pos': 0.143, 'co...                1   \n",
       "1  {'neg': 0.066, 'neu': 0.862, 'pos': 0.073, 'co...                1   \n",
       "2  {'neg': 0.24, 'neu': 0.583, 'pos': 0.177, 'com...                0   \n",
       "3  {'neg': 0.075, 'neu': 0.752, 'pos': 0.173, 'co...                1   \n",
       "4  {'neg': 0.066, 'neu': 0.707, 'pos': 0.227, 'co...                1   \n",
       "\n",
       "                                         bert_scores  bert_class  \n",
       "0  [{'label': 'POSITIVE', 'score': 0.998875796794...           1  \n",
       "1  [{'label': 'POSITIVE', 'score': 0.996983110904...           1  \n",
       "2  [{'label': 'NEGATIVE', 'score': 0.997244238853...           0  \n",
       "3  [{'label': 'NEGATIVE', 'score': 0.649214446544...           0  \n",
       "4  [{'label': 'NEGATIVE', 'score': 0.998503446578...           0  "
      ]
     },
     "execution_count": 11,
     "metadata": {},
     "output_type": "execute_result"
    }
   ],
   "source": [
    "# predict in the entire model. \n",
    "# notice here I am truncating the model. Transformers can only deal with 512 tokens max\n",
    "pd_test[\"bert_scores\"]=pd_test[\"text\"].apply(sentiment_pipeline, truncation=True, max_length=512)\n",
    "\n",
    "# let's clean it up\n",
    "pd_test[\"bert_class\"]=pd_test[\"bert_scores\"].apply(lambda x: np.where(x[0][\"label\"]==\"POSITIVE\", 1, 0))\n",
    "\n",
    "pd_test.head()"
   ]
  },
  {
   "cell_type": "markdown",
   "id": "f2bc0e45-d7ff-424a-b520-86d19b12c0ee",
   "metadata": {},
   "source": [
    "We can easily use this model to make predictions on our entire dataset"
   ]
  },
  {
   "cell_type": "code",
   "execution_count": 26,
   "id": "d96f51cc-7faf-45a8-b924-33f1bedb3d3c",
   "metadata": {},
   "outputs": [
    {
     "name": "stdout",
     "output_type": "stream",
     "text": [
      "0.87\n"
     ]
    }
   ],
   "source": [
    "## accuracy\n",
    "from sklearn.metrics import accuracy_score\n",
    "accuracy = accuracy_score(pd_test['label'], pd_test['bert_class'])\n",
    "# see\n",
    "print(accuracy)"
   ]
  },
  {
   "cell_type": "markdown",
   "id": "8b50f97b-3ffb-436e-8f4f-d0dc5ff919e4",
   "metadata": {},
   "source": [
    "Without any fine-tunning, we are already doing much, much better than dictionaries!"
   ]
  },
  {
   "cell_type": "markdown",
   "id": "6442b23e-acb4-4e8e-ba8b-1b2049f5b641",
   "metadata": {},
   "source": [
    "### Use contextual knowledge: Model Trained on Amazon Reviews\n",
    "\n",
    "We will go in-depth in the process of fine-tunning your model in the week 12 of the course. While we don't  do that, let's see if there are models on Hugging Face that were actually trained on a similar task: predicting reviews. \n",
    "\n",
    "Actually, there are many. See here: https://huggingface.co/models?sort=trending&search=sentiment+reviews"
   ]
  },
  {
   "cell_type": "code",
   "execution_count": 27,
   "id": "ea70ce04-bec5-435f-88e7-c80c06c9a5db",
   "metadata": {},
   "outputs": [],
   "source": [
    "from transformers import AutoModelForSequenceClassification, AutoTokenizer\n",
    "\n",
    "# acessing the model\n",
    "model = AutoModelForSequenceClassification.from_pretrained(\"MICADEE/autonlp-imdb-sentiment-analysis2-7121569\")\n",
    "\n",
    "# Acessing the tokenizer\n",
    "tokenizer = AutoTokenizer.from_pretrained(\"MICADEE/autonlp-imdb-sentiment-analysis2-7121569\")\n",
    "\n",
    "# use in my model\n",
    "sentiment_pipeline = pipeline(\"sentiment-analysis\", model=model, tokenizer=tokenizer)"
   ]
  },
  {
   "cell_type": "code",
   "execution_count": 28,
   "id": "8c4d7b3f-f5b4-4f44-b1ba-1ff48a191a61",
   "metadata": {},
   "outputs": [],
   "source": [
    "# Run in the dataframe\n",
    "pd_test[\"imdb_scores\"]=pd_test[\"text\"].apply(sentiment_pipeline, truncation=True, max_length=512)\n",
    "\n",
    "# clean\n",
    "pd_test[\"imdb_class\"]=pd_test[\"imdb_scores\"].apply(lambda x: np.where(x[0][\"label\"]==\"positive\", 1, 0))"
   ]
  },
  {
   "cell_type": "code",
   "execution_count": 15,
   "id": "68b25537-690e-4581-b676-5f34a270af70",
   "metadata": {},
   "outputs": [
    {
     "name": "stdout",
     "output_type": "stream",
     "text": [
      "0.97\n"
     ]
    }
   ],
   "source": [
    "## accuracy\n",
    "from sklearn.metrics import accuracy_score\n",
    "accuracy = accuracy_score(pd_test['label'], pd_test['imdb_class'])\n",
    "# see\n",
    "print(accuracy)"
   ]
  },
  {
   "cell_type": "markdown",
   "id": "c35ad078",
   "metadata": {},
   "source": [
    "### Who still needs a dictionary?!?!"
   ]
  }
 ],
 "metadata": {
  "kernelspec": {
   "display_name": "Python 3 (ipykernel)",
   "language": "python",
   "name": "python3"
  },
  "language_info": {
   "codemirror_mode": {
    "name": "ipython",
    "version": 3
   },
   "file_extension": ".py",
   "mimetype": "text/x-python",
   "name": "python",
   "nbconvert_exporter": "python",
   "pygments_lexer": "ipython3",
   "version": "3.11.4"
  }
 },
 "nbformat": 4,
 "nbformat_minor": 5
}
